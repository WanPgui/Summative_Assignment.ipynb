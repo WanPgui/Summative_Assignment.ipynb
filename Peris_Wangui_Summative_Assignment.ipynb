{
  "cells": [
    {
      "cell_type": "markdown",
      "metadata": {
        "id": "view-in-github",
        "colab_type": "text"
      },
      "source": [
        "<a href=\"https://colab.research.google.com/github/WanPgui/Summative_Assignment.ipynb/blob/main/Peris_Wangui_Summative_Assignment.ipynb\" target=\"_parent\"><img src=\"https://colab.research.google.com/assets/colab-badge.svg\" alt=\"Open In Colab\"/></a>"
      ]
    },
    {
      "cell_type": "markdown",
      "metadata": {
        "id": "EAt-K2qgcIou"
      },
      "source": [
        "# Optimization Using Gradient Descent: Linear Regression"
      ]
    },
    {
      "cell_type": "markdown",
      "metadata": {
        "id": "FZYK-0rin5x7"
      },
      "source": [
        "In this assignment, you will build a simple linear regression model to predict sales based on TV marketing expenses. You will investigate three different approaches to this problem. You will use `NumPy` and `Scikit-Learn` linear regression models, as well as construct and optimize the sum of squares cost function with gradient descent from scratch.\n",
        "\n",
        "Further you will add additional cells to compare Linear regression and atleast 1 other algorithm"
      ]
    },
    {
      "cell_type": "markdown",
      "metadata": {
        "id": "Ywl11dna6rPV"
      },
      "source": [
        "# Table of Contents\n",
        "\n",
        "- [ 1 - Open the Dataset and State the Problem]\n",
        "  - [ Exercise 1]\n",
        "- [ 2 - Linear Regression in Python with `NumPy` and `Scikit-Learn`]\n",
        "  - [ 2.1 - Linear Regression with `NumPy`]\n",
        "    - [ Exercise 2]\n",
        "  - [ 2.2 - Linear Regression with `Scikit-Learn`]\n",
        "    - [ Exercise 3]\n",
        "    - [ Exercise 4]\n",
        "- [ 3 - Linear Regression using Gradient Descent]\n",
        "  - [ Exercise 5]\n",
        "  - [ Exercise 6]"
      ]
    },
    {
      "cell_type": "markdown",
      "metadata": {
        "id": "QMoxIfha6rPV"
      },
      "source": [
        "## Packages\n",
        "\n",
        "Load the required packages:"
      ]
    },
    {
      "cell_type": "code",
      "execution_count": 2,
      "metadata": {
        "tags": [
          "graded"
        ],
        "id": "jaaw4ei_6rPW"
      },
      "outputs": [],
      "source": [
        "# A library for programmatic plot generation.\n",
        "import matplotlib.pyplot as plt\n",
        "\n",
        "# A library for data manipulation and analysis.\n",
        "import pandas as pd\n",
        "\n",
        "# Importing the LinearRegression class from sklearn for linear regression modeling.\n",
        "from sklearn.linear_model import LinearRegression"
      ]
    },
    {
      "cell_type": "markdown",
      "metadata": {
        "id": "_jIkxZQI6rPX"
      },
      "source": [
        "Import the unit tests defined for this notebook."
      ]
    },
    {
      "cell_type": "code",
      "execution_count": 5,
      "metadata": {
        "id": "2BA4_EOR6rPY"
      },
      "outputs": [],
      "source": [
        "# w2_unittest.py\n",
        "import unittest\n",
        "\n",
        "class TestYourCode(unittest.TestCase):\n",
        "    def test_example(self):\n",
        "        self.assertEqual(1 + 1, 2)\n",
        "\n",
        "def run_tests():\n",
        "    unittest.main()"
      ]
    },
    {
      "cell_type": "markdown",
      "metadata": {
        "id": "obKIZJlp6rPY"
      },
      "source": [
        "<a name='1'></a>\n",
        "## 1 - Open the Dataset and State the Problem"
      ]
    },
    {
      "cell_type": "markdown",
      "metadata": {
        "id": "68gkhFLw6rPY"
      },
      "source": [
        "In this lab, you will build a linear regression model for a simple Kaggle dataset, saved in a file `data/tvmarketing.csv`. The dataset has only two fields: TV marketing expenses (`TV`) and sales amount (`Sales`)."
      ]
    },
    {
      "cell_type": "markdown",
      "metadata": {
        "id": "htARQfsB6rPZ"
      },
      "source": [
        "<a name='ex01'></a>\n",
        "### Exercise 1\n",
        "\n",
        "Use `pandas` function `pd.read_csv` to open the .csv file the from the `path`."
      ]
    },
    {
      "cell_type": "code",
      "execution_count": 14,
      "metadata": {
        "tags": [
          "graded"
        ],
        "id": "oIpEVfK56rPZ",
        "colab": {
          "base_uri": "https://localhost:8080/",
          "height": 350
        },
        "outputId": "65cdcf25-488d-46ec-f380-b7e3638cc96a"
      },
      "outputs": [
        {
          "output_type": "display_data",
          "data": {
            "text/plain": [
              "<IPython.core.display.HTML object>"
            ],
            "text/html": [
              "\n",
              "     <input type=\"file\" id=\"files-ea305e94-2df2-4895-a018-dacb8f66afd6\" name=\"files[]\" multiple disabled\n",
              "        style=\"border:none\" />\n",
              "     <output id=\"result-ea305e94-2df2-4895-a018-dacb8f66afd6\">\n",
              "      Upload widget is only available when the cell has been executed in the\n",
              "      current browser session. Please rerun this cell to enable.\n",
              "      </output>\n",
              "      <script>// Copyright 2017 Google LLC\n",
              "//\n",
              "// Licensed under the Apache License, Version 2.0 (the \"License\");\n",
              "// you may not use this file except in compliance with the License.\n",
              "// You may obtain a copy of the License at\n",
              "//\n",
              "//      http://www.apache.org/licenses/LICENSE-2.0\n",
              "//\n",
              "// Unless required by applicable law or agreed to in writing, software\n",
              "// distributed under the License is distributed on an \"AS IS\" BASIS,\n",
              "// WITHOUT WARRANTIES OR CONDITIONS OF ANY KIND, either express or implied.\n",
              "// See the License for the specific language governing permissions and\n",
              "// limitations under the License.\n",
              "\n",
              "/**\n",
              " * @fileoverview Helpers for google.colab Python module.\n",
              " */\n",
              "(function(scope) {\n",
              "function span(text, styleAttributes = {}) {\n",
              "  const element = document.createElement('span');\n",
              "  element.textContent = text;\n",
              "  for (const key of Object.keys(styleAttributes)) {\n",
              "    element.style[key] = styleAttributes[key];\n",
              "  }\n",
              "  return element;\n",
              "}\n",
              "\n",
              "// Max number of bytes which will be uploaded at a time.\n",
              "const MAX_PAYLOAD_SIZE = 100 * 1024;\n",
              "\n",
              "function _uploadFiles(inputId, outputId) {\n",
              "  const steps = uploadFilesStep(inputId, outputId);\n",
              "  const outputElement = document.getElementById(outputId);\n",
              "  // Cache steps on the outputElement to make it available for the next call\n",
              "  // to uploadFilesContinue from Python.\n",
              "  outputElement.steps = steps;\n",
              "\n",
              "  return _uploadFilesContinue(outputId);\n",
              "}\n",
              "\n",
              "// This is roughly an async generator (not supported in the browser yet),\n",
              "// where there are multiple asynchronous steps and the Python side is going\n",
              "// to poll for completion of each step.\n",
              "// This uses a Promise to block the python side on completion of each step,\n",
              "// then passes the result of the previous step as the input to the next step.\n",
              "function _uploadFilesContinue(outputId) {\n",
              "  const outputElement = document.getElementById(outputId);\n",
              "  const steps = outputElement.steps;\n",
              "\n",
              "  const next = steps.next(outputElement.lastPromiseValue);\n",
              "  return Promise.resolve(next.value.promise).then((value) => {\n",
              "    // Cache the last promise value to make it available to the next\n",
              "    // step of the generator.\n",
              "    outputElement.lastPromiseValue = value;\n",
              "    return next.value.response;\n",
              "  });\n",
              "}\n",
              "\n",
              "/**\n",
              " * Generator function which is called between each async step of the upload\n",
              " * process.\n",
              " * @param {string} inputId Element ID of the input file picker element.\n",
              " * @param {string} outputId Element ID of the output display.\n",
              " * @return {!Iterable<!Object>} Iterable of next steps.\n",
              " */\n",
              "function* uploadFilesStep(inputId, outputId) {\n",
              "  const inputElement = document.getElementById(inputId);\n",
              "  inputElement.disabled = false;\n",
              "\n",
              "  const outputElement = document.getElementById(outputId);\n",
              "  outputElement.innerHTML = '';\n",
              "\n",
              "  const pickedPromise = new Promise((resolve) => {\n",
              "    inputElement.addEventListener('change', (e) => {\n",
              "      resolve(e.target.files);\n",
              "    });\n",
              "  });\n",
              "\n",
              "  const cancel = document.createElement('button');\n",
              "  inputElement.parentElement.appendChild(cancel);\n",
              "  cancel.textContent = 'Cancel upload';\n",
              "  const cancelPromise = new Promise((resolve) => {\n",
              "    cancel.onclick = () => {\n",
              "      resolve(null);\n",
              "    };\n",
              "  });\n",
              "\n",
              "  // Wait for the user to pick the files.\n",
              "  const files = yield {\n",
              "    promise: Promise.race([pickedPromise, cancelPromise]),\n",
              "    response: {\n",
              "      action: 'starting',\n",
              "    }\n",
              "  };\n",
              "\n",
              "  cancel.remove();\n",
              "\n",
              "  // Disable the input element since further picks are not allowed.\n",
              "  inputElement.disabled = true;\n",
              "\n",
              "  if (!files) {\n",
              "    return {\n",
              "      response: {\n",
              "        action: 'complete',\n",
              "      }\n",
              "    };\n",
              "  }\n",
              "\n",
              "  for (const file of files) {\n",
              "    const li = document.createElement('li');\n",
              "    li.append(span(file.name, {fontWeight: 'bold'}));\n",
              "    li.append(span(\n",
              "        `(${file.type || 'n/a'}) - ${file.size} bytes, ` +\n",
              "        `last modified: ${\n",
              "            file.lastModifiedDate ? file.lastModifiedDate.toLocaleDateString() :\n",
              "                                    'n/a'} - `));\n",
              "    const percent = span('0% done');\n",
              "    li.appendChild(percent);\n",
              "\n",
              "    outputElement.appendChild(li);\n",
              "\n",
              "    const fileDataPromise = new Promise((resolve) => {\n",
              "      const reader = new FileReader();\n",
              "      reader.onload = (e) => {\n",
              "        resolve(e.target.result);\n",
              "      };\n",
              "      reader.readAsArrayBuffer(file);\n",
              "    });\n",
              "    // Wait for the data to be ready.\n",
              "    let fileData = yield {\n",
              "      promise: fileDataPromise,\n",
              "      response: {\n",
              "        action: 'continue',\n",
              "      }\n",
              "    };\n",
              "\n",
              "    // Use a chunked sending to avoid message size limits. See b/62115660.\n",
              "    let position = 0;\n",
              "    do {\n",
              "      const length = Math.min(fileData.byteLength - position, MAX_PAYLOAD_SIZE);\n",
              "      const chunk = new Uint8Array(fileData, position, length);\n",
              "      position += length;\n",
              "\n",
              "      const base64 = btoa(String.fromCharCode.apply(null, chunk));\n",
              "      yield {\n",
              "        response: {\n",
              "          action: 'append',\n",
              "          file: file.name,\n",
              "          data: base64,\n",
              "        },\n",
              "      };\n",
              "\n",
              "      let percentDone = fileData.byteLength === 0 ?\n",
              "          100 :\n",
              "          Math.round((position / fileData.byteLength) * 100);\n",
              "      percent.textContent = `${percentDone}% done`;\n",
              "\n",
              "    } while (position < fileData.byteLength);\n",
              "  }\n",
              "\n",
              "  // All done.\n",
              "  yield {\n",
              "    response: {\n",
              "      action: 'complete',\n",
              "    }\n",
              "  };\n",
              "}\n",
              "\n",
              "scope.google = scope.google || {};\n",
              "scope.google.colab = scope.google.colab || {};\n",
              "scope.google.colab._files = {\n",
              "  _uploadFiles,\n",
              "  _uploadFilesContinue,\n",
              "};\n",
              "})(self);\n",
              "</script> "
            ]
          },
          "metadata": {}
        },
        {
          "output_type": "stream",
          "name": "stdout",
          "text": [
            "Saving tvmarketing.csv to tvmarketing.csv\n",
            "      TV  Sales\n",
            "0  230.1   22.1\n",
            "1   44.5   10.4\n",
            "2   17.2    9.3\n",
            "3  151.5   18.5\n",
            "4  180.8   12.9\n",
            "<class 'pandas.core.frame.DataFrame'>\n",
            "RangeIndex: 200 entries, 0 to 199\n",
            "Data columns (total 2 columns):\n",
            " #   Column  Non-Null Count  Dtype  \n",
            "---  ------  --------------  -----  \n",
            " 0   TV      200 non-null    float64\n",
            " 1   Sales   200 non-null    float64\n",
            "dtypes: float64(2)\n",
            "memory usage: 3.2 KB\n",
            "None\n"
          ]
        }
      ],
      "source": [
        "# Step 1: Import necessary libraries\n",
        "import pandas as pd\n",
        "\n",
        "# Step 2: Upload the dataset if using Google Colab\n",
        "from google.colab import files\n",
        "uploaded = files.upload()  # This will prompt you to upload the file\n",
        "\n",
        "# Step 3: Read the CSV file\n",
        "# Make sure to use the correct filename after uploading\n",
        "data = pd.read_csv('tvmarketing.csv')  # Adjust the filename if necessary\n",
        "\n",
        "# Step 4: Display the first few rows of the dataset\n",
        "print(data.head())\n",
        "\n",
        "# Step 5: Check the structure of the dataset\n",
        "print(data.info())"
      ]
    },
    {
      "cell_type": "code",
      "execution_count": 16,
      "metadata": {
        "tags": [
          "graded"
        ],
        "id": "twBM6N2s6rPZ",
        "colab": {
          "base_uri": "https://localhost:8080/"
        },
        "outputId": "b2eaad13-103f-4213-e149-7366f71eff75"
      },
      "outputs": [
        {
          "output_type": "stream",
          "name": "stdout",
          "text": [
            "      TV  Sales\n",
            "0  230.1   22.1\n",
            "1   44.5   10.4\n",
            "2   17.2    9.3\n",
            "3  151.5   18.5\n",
            "4  180.8   12.9\n"
          ]
        }
      ],
      "source": [
        "# Read the CSV file into a DataFrame\n",
        "adv = pd.read_csv('tvmarketing.csv')  # Adjust the filename if necessary\n",
        "\n",
        "# Print the first few rows of the dataset\n",
        "print(adv.head())"
      ]
    },
    {
      "cell_type": "markdown",
      "metadata": {
        "id": "fQk_r2cK6rPZ"
      },
      "source": [
        "##### __Expected Output__\n",
        "\n",
        "```Python\n",
        "\tTV\tSales\n",
        "0\t230.1\t22.1\n",
        "1\t44.5\t10.4\n",
        "2\t17.2\t9.3\n",
        "3\t151.5\t18.5\n",
        "4\t180.8\t12.9\n",
        "```"
      ]
    },
    {
      "cell_type": "code",
      "execution_count": 18,
      "metadata": {
        "id": "z09PR0n56rPa",
        "colab": {
          "base_uri": "https://localhost:8080/"
        },
        "outputId": "70d02a12-c066-4845-c8e7-6d81b3f63b0e"
      },
      "outputs": [
        {
          "output_type": "stream",
          "name": "stdout",
          "text": [
            "w2_unittest module not found. Please ensure it is in the same directory or installed.\n",
            "      TV  Sales\n",
            "0  230.1   22.1\n",
            "1   44.5   10.4\n",
            "2   17.2    9.3\n",
            "3  151.5   18.5\n",
            "4  180.8   12.9\n",
            "The w2_unittest module is not defined. Please check the import statement.\n"
          ]
        }
      ],
      "source": [
        "# Import the unit test module\n",
        "try:\n",
        "    import w2_unittest\n",
        "except ImportError:\n",
        "    print(\"w2_unittest module not found. Please ensure it is in the same directory or installed.\")\n",
        "\n",
        "# Load the dataset\n",
        "adv = pd.read_csv('tvmarketing.csv')  # Make sure the CSV file path is correct\n",
        "\n",
        "# Print some part of the dataset to verify it loaded correctly\n",
        "print(adv.head())\n",
        "\n",
        "# Run the unit test to check if the data loaded correctly\n",
        "try:\n",
        "    w2_unittest.test_load_data(adv)\n",
        "except NameError:\n",
        "    print(\"The w2_unittest module is not defined. Please check the import statement.\")\n",
        "except Exception as e:\n",
        "    print(f\"An error occurred while running the test: {e}\")"
      ]
    },
    {
      "cell_type": "markdown",
      "metadata": {
        "id": "ih0JPZfU6rPa"
      },
      "source": [
        "`pandas` has a function to make plots from the DataFrame fields. By default, matplotlib is used at the backend. Let's use it here:"
      ]
    },
    {
      "cell_type": "code",
      "execution_count": 19,
      "metadata": {
        "tags": [
          "graded"
        ],
        "id": "bYemvzOF6rPa",
        "colab": {
          "base_uri": "https://localhost:8080/",
          "height": 472
        },
        "outputId": "c3dc942d-4ae1-4009-f157-cf074818b295"
      },
      "outputs": [
        {
          "output_type": "display_data",
          "data": {
            "text/plain": [
              "<Figure size 640x480 with 1 Axes>"
            ],
            "image/png": "[encoded data removed]"
          },
          "metadata": {}
        }
      ],
      "source": [
        "# Import necessary libraries\n",
        "import pandas as pd\n",
        "import matplotlib.pyplot as plt\n",
        "\n",
        "# Load the dataset\n",
        "adv = pd.read_csv('tvmarketing.csv')  # Adjust the filename if necessary\n",
        "\n",
        "# Create a scatter plot\n",
        "adv.plot(x='TV', y='Sales', kind='scatter', color='black')\n",
        "\n",
        "# Show the plot\n",
        "plt.title('TV Advertising vs Sales')\n",
        "plt.xlabel('TV Advertising Spend')\n",
        "plt.ylabel('Sales')\n",
        "plt.grid()\n",
        "plt.show()"
      ]
    },
    {
      "cell_type": "markdown",
      "metadata": {
        "id": "8v3CxHDw6rPa"
      },
      "source": [
        "You can use this dataset to solve a simple problem with linear regression: given a TV marketing budget, predict sales."
      ]
    },
    {
      "cell_type": "markdown",
      "metadata": {
        "id": "PAxfJx4K6rPa"
      },
      "source": [
        "<a name='2'></a>\n",
        "## 2 - Linear Regression in Python with `NumPy` and `Scikit-Learn`"
      ]
    },
    {
      "cell_type": "markdown",
      "metadata": {
        "id": "1iDBn7sN6rPa"
      },
      "source": [
        "Save the required field of the DataFrame into variables `X` and `Y`:"
      ]
    },
    {
      "cell_type": "code",
      "execution_count": 20,
      "metadata": {
        "tags": [
          "graded"
        ],
        "id": "zlACC1Bs6rPb",
        "colab": {
          "base_uri": "https://localhost:8080/"
        },
        "outputId": "e5d27176-d0db-4b34-e37e-f8d6e40c8bca"
      },
      "outputs": [
        {
          "output_type": "stream",
          "name": "stdout",
          "text": [
            "Shape of X: (200, 1)\n",
            "Shape of Y: (200,)\n"
          ]
        }
      ],
      "source": [
        "# Assuming 'adv' DataFrame is already loaded\n",
        "\n",
        "# Extracting the required fields into variables X and Y\n",
        "X = adv[['TV']].values  # X should be a 2D array (shape: [n_samples, n_features])\n",
        "Y = adv['Sales'].values  # Y should be a 1D array (shape: [n_samples])\n",
        "\n",
        "# Display the shapes of X and Y\n",
        "print(\"Shape of X:\", X.shape)  # Should be (n_samples, 1)\n",
        "print(\"Shape of Y:\", Y.shape)  # Should be (n_samples,)"
      ]
    },
    {
      "cell_type": "markdown",
      "metadata": {
        "id": "gAXZupk96rPb"
      },
      "source": [
        "<a name='2.1'></a>\n",
        "### 2.1 - Linear Regression with `NumPy`"
      ]
    },
    {
      "cell_type": "markdown",
      "metadata": {
        "id": "b_AYPl166rPb"
      },
      "source": [
        "You can use the function `np.polyfit(x, y, deg)` to fit a polynomial of degree `deg` to points $(x, y)$, minimising the sum of squared errors. You can read more in the [documentation](https://numpy.org/doc/stable/reference/generated/numpy.polyfit.html). Taking `deg = 1` you can obtain the slope `m` and the intercept `b` of the linear regression line:"
      ]
    },
    {
      "cell_type": "code",
      "execution_count": 21,
      "metadata": {
        "tags": [
          "graded"
        ],
        "id": "Z9QzeLYQ6rPb",
        "colab": {
          "base_uri": "https://localhost:8080/"
        },
        "outputId": "f275338d-3780-4e16-8c95-e5f340ea3d6b"
      },
      "outputs": [
        {
          "output_type": "stream",
          "name": "stdout",
          "text": [
            "Linear regression with NumPy. Slope: 0.04753664043301975. Intercept: 7.0325935491276965\n"
          ]
        }
      ],
      "source": [
        "import numpy as np\n",
        "\n",
        "# Assuming X and Y have already been defined as per previous instructions\n",
        "# X should be a 2D array, so we need to flatten it to 1D for np.polyfit\n",
        "X_flat = X.flatten()  # Convert 2D array to 1D array\n",
        "\n",
        "# Fit a linear regression line (degree = 1)\n",
        "m_numpy, b_numpy = np.polyfit(X_flat, Y, deg=1)\n",
        "\n",
        "# Print the results\n",
        "print(f\"Linear regression with NumPy. Slope: {m_numpy}. Intercept: {b_numpy}\")"
      ]
    },
    {
      "cell_type": "markdown",
      "metadata": {
        "id": "3IGX-Aco6rPb"
      },
      "source": [
        "*Note*: [`NumPy` documentation](https://numpy.org/doc/stable/reference/generated/numpy.polyfit.html) suggests the [`Polynomial.fit` class method](https://numpy.org/doc/stable/reference/generated/numpy.polynomial.polynomial.Polynomial.fit.html#numpy.polynomial.polynomial.Polynomial.fit) as recommended for new code as it is more stable numerically. But in this simple example, you can stick to the `np.polyfit` function for simplicity."
      ]
    },
    {
      "cell_type": "markdown",
      "metadata": {
        "id": "XQYzHp8-6rPb"
      },
      "source": [
        "<a name='ex02'></a>\n",
        "### Exercise 2\n",
        "\n",
        "Make predictions substituting the obtained slope and intercept coefficients into the equation $Y = mX + b$, given an array of $X$ values."
      ]
    },
    {
      "cell_type": "code",
      "execution_count": 22,
      "metadata": {
        "tags": [
          "graded"
        ],
        "id": "j-ffDoJG6rPb"
      },
      "outputs": [],
      "source": [
        "def pred_numpy(m, b, X):\n",
        "    # Calculate Y using the linear regression equation Y = mX + b\n",
        "    Y = m * X + b  # This will work because X is a NumPy array\n",
        "\n",
        "    return Y\n"
      ]
    },
    {
      "cell_type": "code",
      "execution_count": 23,
      "metadata": {
        "tags": [
          "graded"
        ],
        "id": "grGPkBDw6rPc",
        "colab": {
          "base_uri": "https://localhost:8080/"
        },
        "outputId": "40329cf9-f305-4750-d612-7385bb29ab04"
      },
      "outputs": [
        {
          "output_type": "stream",
          "name": "stdout",
          "text": [
            "TV marketing expenses:\n",
            "[ 50 120 280]\n",
            "Predictions of sales using NumPy linear regression:\n",
            "[ 9.40942557 12.7369904  20.34285287]\n"
          ]
        }
      ],
      "source": [
        "X_pred = np.array([50, 120, 280])\n",
        "Y_pred_numpy = pred_numpy(m_numpy, b_numpy, X_pred)\n",
        "\n",
        "print(f\"TV marketing expenses:\\n{X_pred}\")\n",
        "print(f\"Predictions of sales using NumPy linear regression:\\n{Y_pred_numpy}\")"
      ]
    },
    {
      "cell_type": "markdown",
      "metadata": {
        "id": "Ei1HFkW16rPc"
      },
      "source": [
        "##### __Expected Output__\n",
        "\n",
        "```Python\n",
        "TV marketing expenses:\n",
        "[ 50 120 280]\n",
        "Predictions of sales using NumPy linear regression:\n",
        "[ 9.40942557 12.7369904  20.34285287]\n",
        "```"
      ]
    },
    {
      "cell_type": "code",
      "execution_count": 26,
      "metadata": {
        "id": "J6hP1sOh6rPc",
        "colab": {
          "base_uri": "https://localhost:8080/"
        },
        "outputId": "566debbb-e3b5-4ad1-b304-2ed93cf87941"
      },
      "outputs": [
        {
          "output_type": "stream",
          "name": "stderr",
          "text": [
            "test_pred_numpy (__main__.TestPredNumpy) ... ok\n",
            "\n",
            "----------------------------------------------------------------------\n",
            "Ran 1 test in 0.031s\n",
            "\n",
            "OK\n"
          ]
        }
      ],
      "source": [
        "import unittest\n",
        "import numpy as np\n",
        "\n",
        "# Assuming pred_numpy function is defined as earlier\n",
        "def pred_numpy(m, b, X):\n",
        "    Y = m * X + b\n",
        "    return Y\n",
        "\n",
        "class TestPredNumpy(unittest.TestCase):\n",
        "\n",
        "    def test_pred_numpy(self):\n",
        "        # Sample slope and intercept\n",
        "        m = 2.0\n",
        "        b = 5.0\n",
        "\n",
        "        # Sample input array\n",
        "        X = np.array([0, 1, 2, 3, 4])\n",
        "\n",
        "        # Expected output based on Y = mX + b\n",
        "        expected_Y = np.array([5.0, 7.0, 9.0, 11.0, 13.0])\n",
        "\n",
        "        # Call the pred_numpy function\n",
        "        predicted_Y = pred_numpy(m, b, X)\n",
        "\n",
        "        # Check if the predicted values match the expected values\n",
        "        np.testing.assert_array_equal(predicted_Y, expected_Y)\n",
        "\n",
        "# Instead of calling unittest.main(), directly create a test suite and run it\n",
        "if __name__ == '__main__':\n",
        "    suite = unittest.TestLoader().loadTestsFromTestCase(TestPredNumpy)\n",
        "    unittest.TextTestRunner(verbosity=2).run(suite)"
      ]
    },
    {
      "cell_type": "markdown",
      "metadata": {
        "id": "ZrHhLUxx6rPc"
      },
      "source": [
        "<a name='2.2'></a>\n",
        "### 2.2 - Linear Regression with `Scikit-Learn`"
      ]
    },
    {
      "cell_type": "markdown",
      "metadata": {
        "id": "x9fsySKj6rPc"
      },
      "source": [
        "`Scikit-Learn` is an open-source machine learning library that supports supervised and unsupervised learning. It also provides various tools for model fitting, data preprocessing, model selection, model evaluation, and many other utilities. `Scikit-learn` provides dozens of built-in machine learning algorithms and models, called **estimators**. Each estimator can be fitted to some data using its `fit` method. Full documentation can be found [here](https://scikit-learn.org/stable/)."
      ]
    },
    {
      "cell_type": "markdown",
      "metadata": {
        "id": "S4JiS30e6rPc"
      },
      "source": [
        "Create an estimator object for a linear regression model:"
      ]
    },
    {
      "cell_type": "code",
      "execution_count": 34,
      "metadata": {
        "tags": [],
        "id": "8GFfrNtf6rPd"
      },
      "outputs": [],
      "source": [
        "from sklearn.linear_model import LinearRegression\n",
        "\n",
        "# Create an estimator object for a linear regression model\n",
        "lr_sklearn = LinearRegression()"
      ]
    },
    {
      "cell_type": "markdown",
      "metadata": {
        "id": "PZSY20Er6rPd"
      },
      "source": [
        "The estimator can learn from data calling the `fit` function. However, trying to run the following code you will get an error, as the data needs to be reshaped into 2D array:"
      ]
    },
    {
      "cell_type": "code",
      "execution_count": 35,
      "metadata": {
        "tags": [],
        "id": "MFpbPMHO6rPd",
        "colab": {
          "base_uri": "https://localhost:8080/"
        },
        "outputId": "a07501a7-9c52-4d24-8486-ed3a92db1955"
      },
      "outputs": [
        {
          "output_type": "stream",
          "name": "stdout",
          "text": [
            "Shape of X array: (5,)\n",
            "Shape of Y array: (5,)\n",
            "Expected 2D array, got 1D array instead:\n",
            "array=[1 2 3 4 5].\n",
            "Reshape your data either using array.reshape(-1, 1) if your data has a single feature or array.reshape(1, -1) if it contains a single sample.\n"
          ]
        }
      ],
      "source": [
        "import numpy as np\n",
        "from sklearn.linear_model import LinearRegression\n",
        "\n",
        "# Create sample data\n",
        "X = np.array([1, 2, 3, 4, 5])  # Features (1D array)\n",
        "Y = np.array([1, 2, 3, 4, 5])  # Target variable (1D array)\n",
        "\n",
        "# Print shapes of X and Y\n",
        "print(f\"Shape of X array: {X.shape}\")  # Should print (5,)\n",
        "print(f\"Shape of Y array: {Y.shape}\")  # Should print (5,)\n",
        "\n",
        "# Create an estimator object for a linear regression model\n",
        "lr_sklearn = LinearRegression()\n",
        "\n",
        "# Try to fit the model to the data\n",
        "try:\n",
        "    lr_sklearn.fit(X, Y)\n",
        "except ValueError as err:\n",
        "    print(err)  # Print the error message"
      ]
    },
    {
      "cell_type": "markdown",
      "metadata": {
        "id": "sFXmM3sD6rPd"
      },
      "source": [
        "You can increase the dimension of the array by one with `reshape` function, or there is another another way to do it:"
      ]
    },
    {
      "cell_type": "code",
      "execution_count": 36,
      "metadata": {
        "tags": [
          "graded"
        ],
        "id": "HI9fOBYX6rPd",
        "colab": {
          "base_uri": "https://localhost:8080/"
        },
        "outputId": "f231f1b2-9a9a-4ebe-ad42-c72ca215621e"
      },
      "outputs": [
        {
          "output_type": "stream",
          "name": "stdout",
          "text": [
            "Shape of new X array: (5, 1)\n",
            "Shape of new Y array: (5, 1)\n"
          ]
        }
      ],
      "source": [
        "# Method 1: Reshape using reshape function\n",
        "X_sklearn = X.reshape(-1, 1)  # Reshape to 2D array\n",
        "Y_sklearn = Y.reshape(-1, 1)  # Reshape to 2D array\n",
        "\n",
        "# Method 2: Reshape using np.newaxis\n",
        "# X_sklearn = X[:, np.newaxis]\n",
        "# Y_sklearn = Y[:, np.newaxis]\n",
        "\n",
        "# Print new shapes of X and Y\n",
        "print(f\"Shape of new X array: {X_sklearn.shape}\")  # Should print (5, 1)\n",
        "print(f\"Shape of new Y array: {Y_sklearn.shape}\")  # Should print (5, 1)"
      ]
    },
    {
      "cell_type": "markdown",
      "metadata": {
        "id": "NNM0wy686rPd"
      },
      "source": [
        "You have already loaded your dataset into X_sklearn and Y_sklearn\n",
        "Step 1: Split the data into training and testing sets use train_test_split from sklearn\n",
        "The test size shoukd be 20% of the data"
      ]
    },
    {
      "cell_type": "code",
      "execution_count": 37,
      "metadata": {
        "id": "Z1cxBgLO6rPd"
      },
      "outputs": [],
      "source": [
        "from sklearn.model_selection import train_test_split\n",
        "\n",
        "# Assuming X_sklearn and Y_sklearn are already defined\n",
        "X_train, X_test, Y_train, Y_test = train_test_split(X_sklearn, Y_sklearn, test_size=0.2, random_state=42)"
      ]
    },
    {
      "cell_type": "markdown",
      "metadata": {
        "id": "OVdNEptq6rPn"
      },
      "source": [
        "Step 2: Fit the linear regression model to the training data\n"
      ]
    },
    {
      "cell_type": "code",
      "execution_count": 40,
      "metadata": {
        "id": "JCOjcOA06rPn",
        "colab": {
          "base_uri": "https://localhost:8080/",
          "height": 80
        },
        "outputId": "ec9c2cf0-a25e-421a-ab79-96f0025f2803"
      },
      "outputs": [
        {
          "output_type": "execute_result",
          "data": {
            "text/plain": [
              "LinearRegression()"
            ],
            "text/html": [
              "<style>#sk-container-id-2 {\n",
              "  /* Definition of color scheme common for light and dark mode */\n",
              "  --sklearn-color-text: black;\n",
              "  --sklearn-color-line: gray;\n",
              "  /* Definition of color scheme for unfitted estimators */\n",
              "  --sklearn-color-unfitted-level-0: #fff5e6;\n",
              "  --sklearn-color-unfitted-level-1: #f6e4d2;\n",
              "  --sklearn-color-unfitted-level-2: #ffe0b3;\n",
              "  --sklearn-color-unfitted-level-3: chocolate;\n",
              "  /* Definition of color scheme for fitted estimators */\n",
              "  --sklearn-color-fitted-level-0: #f0f8ff;\n",
              "  --sklearn-color-fitted-level-1: #d4ebff;\n",
              "  --sklearn-color-fitted-level-2: #b3dbfd;\n",
              "  --sklearn-color-fitted-level-3: cornflowerblue;\n",
              "\n",
              "  /* Specific color for light theme */\n",
              "  --sklearn-color-text-on-default-background: var(--sg-text-color, var(--theme-code-foreground, var(--jp-content-font-color1, black)));\n",
              "  --sklearn-color-background: var(--sg-background-color, var(--theme-background, var(--jp-layout-color0, white)));\n",
              "  --sklearn-color-border-box: var(--sg-text-color, var(--theme-code-foreground, var(--jp-content-font-color1, black)));\n",
              "  --sklearn-color-icon: #696969;\n",
              "\n",
              "  @media (prefers-color-scheme: dark) {\n",
              "    /* Redefinition of color scheme for dark theme */\n",
              "    --sklearn-color-text-on-default-background: var(--sg-text-color, var(--theme-code-foreground, var(--jp-content-font-color1, white)));\n",
              "    --sklearn-color-background: var(--sg-background-color, var(--theme-background, var(--jp-layout-color0, #111)));\n",
              "    --sklearn-color-border-box: var(--sg-text-color, var(--theme-code-foreground, var(--jp-content-font-color1, white)));\n",
              "    --sklearn-color-icon: #878787;\n",
              "  }\n",
              "}\n",
              "\n",
              "#sk-container-id-2 {\n",
              "  color: var(--sklearn-color-text);\n",
              "}\n",
              "\n",
              "#sk-container-id-2 pre {\n",
              "  padding: 0;\n",
              "}\n",
              "\n",
              "#sk-container-id-2 input.sk-hidden--visually {\n",
              "  border: 0;\n",
              "  clip: rect(1px 1px 1px 1px);\n",
              "  clip: rect(1px, 1px, 1px, 1px);\n",
              "  height: 1px;\n",
              "  margin: -1px;\n",
              "  overflow: hidden;\n",
              "  padding: 0;\n",
              "  position: absolute;\n",
              "  width: 1px;\n",
              "}\n",
              "\n",
              "#sk-container-id-2 div.sk-dashed-wrapped {\n",
              "  border: 1px dashed var(--sklearn-color-line);\n",
              "  margin: 0 0.4em 0.5em 0.4em;\n",
              "  box-sizing: border-box;\n",
              "  padding-bottom: 0.4em;\n",
              "  background-color: var(--sklearn-color-background);\n",
              "}\n",
              "\n",
              "#sk-container-id-2 div.sk-container {\n",
              "  /* jupyter's `normalize.less` sets `[hidden] { display: none; }`\n",
              "     but bootstrap.min.css set `[hidden] { display: none !important; }`\n",
              "     so we also need the `!important` here to be able to override the\n",
              "     default hidden behavior on the sphinx rendered scikit-learn.org.\n",
              "     See: https://github.com/scikit-learn/scikit-learn/issues/21755 */\n",
              "  display: inline-block !important;\n",
              "  position: relative;\n",
              "}\n",
              "\n",
              "#sk-container-id-2 div.sk-text-repr-fallback {\n",
              "  display: none;\n",
              "}\n",
              "\n",
              "div.sk-parallel-item,\n",
              "div.sk-serial,\n",
              "div.sk-item {\n",
              "  /* draw centered vertical line to link estimators */\n",
              "  background-image: linear-gradient(var(--sklearn-color-text-on-default-background), var(--sklearn-color-text-on-default-background));\n",
              "  background-size: 2px 100%;\n",
              "  background-repeat: no-repeat;\n",
              "  background-position: center center;\n",
              "}\n",
              "\n",
              "/* Parallel-specific style estimator block */\n",
              "\n",
              "#sk-container-id-2 div.sk-parallel-item::after {\n",
              "  content: \"\";\n",
              "  width: 100%;\n",
              "  border-bottom: 2px solid var(--sklearn-color-text-on-default-background);\n",
              "  flex-grow: 1;\n",
              "}\n",
              "\n",
              "#sk-container-id-2 div.sk-parallel {\n",
              "  display: flex;\n",
              "  align-items: stretch;\n",
              "  justify-content: center;\n",
              "  background-color: var(--sklearn-color-background);\n",
              "  position: relative;\n",
              "}\n",
              "\n",
              "#sk-container-id-2 div.sk-parallel-item {\n",
              "  display: flex;\n",
              "  flex-direction: column;\n",
              "}\n",
              "\n",
              "#sk-container-id-2 div.sk-parallel-item:first-child::after {\n",
              "  align-self: flex-end;\n",
              "  width: 50%;\n",
              "}\n",
              "\n",
              "#sk-container-id-2 div.sk-parallel-item:last-child::after {\n",
              "  align-self: flex-start;\n",
              "  width: 50%;\n",
              "}\n",
              "\n",
              "#sk-container-id-2 div.sk-parallel-item:only-child::after {\n",
              "  width: 0;\n",
              "}\n",
              "\n",
              "/* Serial-specific style estimator block */\n",
              "\n",
              "#sk-container-id-2 div.sk-serial {\n",
              "  display: flex;\n",
              "  flex-direction: column;\n",
              "  align-items: center;\n",
              "  background-color: var(--sklearn-color-background);\n",
              "  padding-right: 1em;\n",
              "  padding-left: 1em;\n",
              "}\n",
              "\n",
              "\n",
              "/* Toggleable style: style used for estimator/Pipeline/ColumnTransformer box that is\n",
              "clickable and can be expanded/collapsed.\n",
              "- Pipeline and ColumnTransformer use this feature and define the default style\n",
              "- Estimators will overwrite some part of the style using the `sk-estimator` class\n",
              "*/\n",
              "\n",
              "/* Pipeline and ColumnTransformer style (default) */\n",
              "\n",
              "#sk-container-id-2 div.sk-toggleable {\n",
              "  /* Default theme specific background. It is overwritten whether we have a\n",
              "  specific estimator or a Pipeline/ColumnTransformer */\n",
              "  background-color: var(--sklearn-color-background);\n",
              "}\n",
              "\n",
              "/* Toggleable label */\n",
              "#sk-container-id-2 label.sk-toggleable__label {\n",
              "  cursor: pointer;\n",
              "  display: block;\n",
              "  width: 100%;\n",
              "  margin-bottom: 0;\n",
              "  padding: 0.5em;\n",
              "  box-sizing: border-box;\n",
              "  text-align: center;\n",
              "}\n",
              "\n",
              "#sk-container-id-2 label.sk-toggleable__label-arrow:before {\n",
              "  /* Arrow on the left of the label */\n",
              "  content: \"▸\";\n",
              "  float: left;\n",
              "  margin-right: 0.25em;\n",
              "  color: var(--sklearn-color-icon);\n",
              "}\n",
              "\n",
              "#sk-container-id-2 label.sk-toggleable__label-arrow:hover:before {\n",
              "  color: var(--sklearn-color-text);\n",
              "}\n",
              "\n",
              "/* Toggleable content - dropdown */\n",
              "\n",
              "#sk-container-id-2 div.sk-toggleable__content {\n",
              "  max-height: 0;\n",
              "  max-width: 0;\n",
              "  overflow: hidden;\n",
              "  text-align: left;\n",
              "  /* unfitted */\n",
              "  background-color: var(--sklearn-color-unfitted-level-0);\n",
              "}\n",
              "\n",
              "#sk-container-id-2 div.sk-toggleable__content.fitted {\n",
              "  /* fitted */\n",
              "  background-color: var(--sklearn-color-fitted-level-0);\n",
              "}\n",
              "\n",
              "#sk-container-id-2 div.sk-toggleable__content pre {\n",
              "  margin: 0.2em;\n",
              "  border-radius: 0.25em;\n",
              "  color: var(--sklearn-color-text);\n",
              "  /* unfitted */\n",
              "  background-color: var(--sklearn-color-unfitted-level-0);\n",
              "}\n",
              "\n",
              "#sk-container-id-2 div.sk-toggleable__content.fitted pre {\n",
              "  /* unfitted */\n",
              "  background-color: var(--sklearn-color-fitted-level-0);\n",
              "}\n",
              "\n",
              "#sk-container-id-2 input.sk-toggleable__control:checked~div.sk-toggleable__content {\n",
              "  /* Expand drop-down */\n",
              "  max-height: 200px;\n",
              "  max-width: 100%;\n",
              "  overflow: auto;\n",
              "}\n",
              "\n",
              "#sk-container-id-2 input.sk-toggleable__control:checked~label.sk-toggleable__label-arrow:before {\n",
              "  content: \"▾\";\n",
              "}\n",
              "\n",
              "/* Pipeline/ColumnTransformer-specific style */\n",
              "\n",
              "#sk-container-id-2 div.sk-label input.sk-toggleable__control:checked~label.sk-toggleable__label {\n",
              "  color: var(--sklearn-color-text);\n",
              "  background-color: var(--sklearn-color-unfitted-level-2);\n",
              "}\n",
              "\n",
              "#sk-container-id-2 div.sk-label.fitted input.sk-toggleable__control:checked~label.sk-toggleable__label {\n",
              "  background-color: var(--sklearn-color-fitted-level-2);\n",
              "}\n",
              "\n",
              "/* Estimator-specific style */\n",
              "\n",
              "/* Colorize estimator box */\n",
              "#sk-container-id-2 div.sk-estimator input.sk-toggleable__control:checked~label.sk-toggleable__label {\n",
              "  /* unfitted */\n",
              "  background-color: var(--sklearn-color-unfitted-level-2);\n",
              "}\n",
              "\n",
              "#sk-container-id-2 div.sk-estimator.fitted input.sk-toggleable__control:checked~label.sk-toggleable__label {\n",
              "  /* fitted */\n",
              "  background-color: var(--sklearn-color-fitted-level-2);\n",
              "}\n",
              "\n",
              "#sk-container-id-2 div.sk-label label.sk-toggleable__label,\n",
              "#sk-container-id-2 div.sk-label label {\n",
              "  /* The background is the default theme color */\n",
              "  color: var(--sklearn-color-text-on-default-background);\n",
              "}\n",
              "\n",
              "/* On hover, darken the color of the background */\n",
              "#sk-container-id-2 div.sk-label:hover label.sk-toggleable__label {\n",
              "  color: var(--sklearn-color-text);\n",
              "  background-color: var(--sklearn-color-unfitted-level-2);\n",
              "}\n",
              "\n",
              "/* Label box, darken color on hover, fitted */\n",
              "#sk-container-id-2 div.sk-label.fitted:hover label.sk-toggleable__label.fitted {\n",
              "  color: var(--sklearn-color-text);\n",
              "  background-color: var(--sklearn-color-fitted-level-2);\n",
              "}\n",
              "\n",
              "/* Estimator label */\n",
              "\n",
              "#sk-container-id-2 div.sk-label label {\n",
              "  font-family: monospace;\n",
              "  font-weight: bold;\n",
              "  display: inline-block;\n",
              "  line-height: 1.2em;\n",
              "}\n",
              "\n",
              "#sk-container-id-2 div.sk-label-container {\n",
              "  text-align: center;\n",
              "}\n",
              "\n",
              "/* Estimator-specific */\n",
              "#sk-container-id-2 div.sk-estimator {\n",
              "  font-family: monospace;\n",
              "  border: 1px dotted var(--sklearn-color-border-box);\n",
              "  border-radius: 0.25em;\n",
              "  box-sizing: border-box;\n",
              "  margin-bottom: 0.5em;\n",
              "  /* unfitted */\n",
              "  background-color: var(--sklearn-color-unfitted-level-0);\n",
              "}\n",
              "\n",
              "#sk-container-id-2 div.sk-estimator.fitted {\n",
              "  /* fitted */\n",
              "  background-color: var(--sklearn-color-fitted-level-0);\n",
              "}\n",
              "\n",
              "/* on hover */\n",
              "#sk-container-id-2 div.sk-estimator:hover {\n",
              "  /* unfitted */\n",
              "  background-color: var(--sklearn-color-unfitted-level-2);\n",
              "}\n",
              "\n",
              "#sk-container-id-2 div.sk-estimator.fitted:hover {\n",
              "  /* fitted */\n",
              "  background-color: var(--sklearn-color-fitted-level-2);\n",
              "}\n",
              "\n",
              "/* Specification for estimator info (e.g. \"i\" and \"?\") */\n",
              "\n",
              "/* Common style for \"i\" and \"?\" */\n",
              "\n",
              ".sk-estimator-doc-link,\n",
              "a:link.sk-estimator-doc-link,\n",
              "a:visited.sk-estimator-doc-link {\n",
              "  float: right;\n",
              "  font-size: smaller;\n",
              "  line-height: 1em;\n",
              "  font-family: monospace;\n",
              "  background-color: var(--sklearn-color-background);\n",
              "  border-radius: 1em;\n",
              "  height: 1em;\n",
              "  width: 1em;\n",
              "  text-decoration: none !important;\n",
              "  margin-left: 1ex;\n",
              "  /* unfitted */\n",
              "  border: var(--sklearn-color-unfitted-level-1) 1pt solid;\n",
              "  color: var(--sklearn-color-unfitted-level-1);\n",
              "}\n",
              "\n",
              ".sk-estimator-doc-link.fitted,\n",
              "a:link.sk-estimator-doc-link.fitted,\n",
              "a:visited.sk-estimator-doc-link.fitted {\n",
              "  /* fitted */\n",
              "  border: var(--sklearn-color-fitted-level-1) 1pt solid;\n",
              "  color: var(--sklearn-color-fitted-level-1);\n",
              "}\n",
              "\n",
              "/* On hover */\n",
              "div.sk-estimator:hover .sk-estimator-doc-link:hover,\n",
              ".sk-estimator-doc-link:hover,\n",
              "div.sk-label-container:hover .sk-estimator-doc-link:hover,\n",
              ".sk-estimator-doc-link:hover {\n",
              "  /* unfitted */\n",
              "  background-color: var(--sklearn-color-unfitted-level-3);\n",
              "  color: var(--sklearn-color-background);\n",
              "  text-decoration: none;\n",
              "}\n",
              "\n",
              "div.sk-estimator.fitted:hover .sk-estimator-doc-link.fitted:hover,\n",
              ".sk-estimator-doc-link.fitted:hover,\n",
              "div.sk-label-container:hover .sk-estimator-doc-link.fitted:hover,\n",
              ".sk-estimator-doc-link.fitted:hover {\n",
              "  /* fitted */\n",
              "  background-color: var(--sklearn-color-fitted-level-3);\n",
              "  color: var(--sklearn-color-background);\n",
              "  text-decoration: none;\n",
              "}\n",
              "\n",
              "/* Span, style for the box shown on hovering the info icon */\n",
              ".sk-estimator-doc-link span {\n",
              "  display: none;\n",
              "  z-index: 9999;\n",
              "  position: relative;\n",
              "  font-weight: normal;\n",
              "  right: .2ex;\n",
              "  padding: .5ex;\n",
              "  margin: .5ex;\n",
              "  width: min-content;\n",
              "  min-width: 20ex;\n",
              "  max-width: 50ex;\n",
              "  color: var(--sklearn-color-text);\n",
              "  box-shadow: 2pt 2pt 4pt #999;\n",
              "  /* unfitted */\n",
              "  background: var(--sklearn-color-unfitted-level-0);\n",
              "  border: .5pt solid var(--sklearn-color-unfitted-level-3);\n",
              "}\n",
              "\n",
              ".sk-estimator-doc-link.fitted span {\n",
              "  /* fitted */\n",
              "  background: var(--sklearn-color-fitted-level-0);\n",
              "  border: var(--sklearn-color-fitted-level-3);\n",
              "}\n",
              "\n",
              ".sk-estimator-doc-link:hover span {\n",
              "  display: block;\n",
              "}\n",
              "\n",
              "/* \"?\"-specific style due to the `<a>` HTML tag */\n",
              "\n",
              "#sk-container-id-2 a.estimator_doc_link {\n",
              "  float: right;\n",
              "  font-size: 1rem;\n",
              "  line-height: 1em;\n",
              "  font-family: monospace;\n",
              "  background-color: var(--sklearn-color-background);\n",
              "  border-radius: 1rem;\n",
              "  height: 1rem;\n",
              "  width: 1rem;\n",
              "  text-decoration: none;\n",
              "  /* unfitted */\n",
              "  color: var(--sklearn-color-unfitted-level-1);\n",
              "  border: var(--sklearn-color-unfitted-level-1) 1pt solid;\n",
              "}\n",
              "\n",
              "#sk-container-id-2 a.estimator_doc_link.fitted {\n",
              "  /* fitted */\n",
              "  border: var(--sklearn-color-fitted-level-1) 1pt solid;\n",
              "  color: var(--sklearn-color-fitted-level-1);\n",
              "}\n",
              "\n",
              "/* On hover */\n",
              "#sk-container-id-2 a.estimator_doc_link:hover {\n",
              "  /* unfitted */\n",
              "  background-color: var(--sklearn-color-unfitted-level-3);\n",
              "  color: var(--sklearn-color-background);\n",
              "  text-decoration: none;\n",
              "}\n",
              "\n",
              "#sk-container-id-2 a.estimator_doc_link.fitted:hover {\n",
              "  /* fitted */\n",
              "  background-color: var(--sklearn-color-fitted-level-3);\n",
              "}\n",
              "</style><div id=\"sk-container-id-2\" class=\"sk-top-container\"><div class=\"sk-text-repr-fallback\"><pre>LinearRegression()</pre><b>In a Jupyter environment, please rerun this cell to show the HTML representation or trust the notebook. <br />On GitHub, the HTML representation is unable to render, please try loading this page with nbviewer.org.</b></div><div class=\"sk-container\" hidden><div class=\"sk-item\"><div class=\"sk-estimator fitted sk-toggleable\"><input class=\"sk-toggleable__control sk-hidden--visually\" id=\"sk-estimator-id-2\" type=\"checkbox\" checked><label for=\"sk-estimator-id-2\" class=\"sk-toggleable__label fitted sk-toggleable__label-arrow fitted\">&nbsp;&nbsp;LinearRegression<a class=\"sk-estimator-doc-link fitted\" rel=\"noreferrer\" target=\"_blank\" href=\"https://scikit-learn.org/1.5/modules/generated/sklearn.linear_model.LinearRegression.html\">?<span>Documentation for LinearRegression</span></a><span class=\"sk-estimator-doc-link fitted\">i<span>Fitted</span></span></label><div class=\"sk-toggleable__content fitted\"><pre>LinearRegression()</pre></div> </div></div></div></div>"
            ]
          },
          "metadata": {},
          "execution_count": 40
        }
      ],
      "source": [
        "# Step 2: Fit the linear regression model to the training data\n",
        "lr_sklearn.fit(X_train, Y_train)"
      ]
    },
    {
      "cell_type": "markdown",
      "metadata": {
        "id": "peVnPMvN6rPo"
      },
      "source": [
        "\n",
        " Step 3: Make predictions using the fitted model on the testing data\n"
      ]
    },
    {
      "cell_type": "code",
      "execution_count": 41,
      "metadata": {
        "id": "iVNo1HMJ6rPo"
      },
      "outputs": [],
      "source": [
        "# Make predictions using the fitted model on the testing data\n",
        "Y_pred = lr_sklearn.predict(X_test)"
      ]
    },
    {
      "cell_type": "markdown",
      "metadata": {
        "id": "hudBcMsU6rPo"
      },
      "source": [
        " Step 4: Calculate the RMSE\n",
        "Using sklearn.metrics - mean_squared_error"
      ]
    },
    {
      "cell_type": "code",
      "execution_count": 42,
      "metadata": {
        "id": "i1UQkkC16rPo",
        "colab": {
          "base_uri": "https://localhost:8080/"
        },
        "outputId": "b2906ba9-ae3f-4126-a518-77576dbf4d69"
      },
      "outputs": [
        {
          "output_type": "stream",
          "name": "stdout",
          "text": [
            "Root Mean Square Error: 0.0\n"
          ]
        }
      ],
      "source": [
        "from sklearn.metrics import mean_squared_error\n",
        "import numpy as np\n",
        "\n",
        "# Calculate Mean Squared Error\n",
        "mse = mean_squared_error(Y_test, Y_pred)\n",
        "\n",
        "# Calculate RMSE\n",
        "rmse = np.sqrt(mse)\n",
        "\n",
        "print(\"Root Mean Square Error:\", rmse)"
      ]
    },
    {
      "cell_type": "markdown",
      "metadata": {
        "id": "e0ohtuuC6rPo"
      },
      "source": [
        "TO DO Create an estimator object for Random Forest and Desision Trees and compare RSMES:"
      ]
    },
    {
      "cell_type": "code",
      "execution_count": 51,
      "metadata": {
        "id": "I9M9IOlO6rPo",
        "outputId": "b8e1b0ee-346c-43ee-af38-f7dc51f1c856",
        "colab": {
          "base_uri": "https://localhost:8080/"
        }
      },
      "outputs": [
        {
          "output_type": "stream",
          "name": "stdout",
          "text": [
            "Model Rankings from Best to Worst:\n",
            "Linear Regression: 0.0895\n",
            "Random Forest: 127.4755\n",
            "Decision Trees: 145.4411\n"
          ]
        }
      ],
      "source": [
        "from sklearn.ensemble import RandomForestRegressor\n",
        "from sklearn.tree import DecisionTreeRegressor\n",
        "from sklearn.metrics import mean_squared_error\n",
        "import numpy as np\n",
        "\n",
        "# Assuming you already have your X_train, Y_train, X_test, and Y_test prepared\n",
        "\n",
        "# 1. Create and fit Linear Regression model (if not already done)\n",
        "from sklearn.linear_model import LinearRegression\n",
        "\n",
        "lr_model = LinearRegression()\n",
        "lr_model.fit(X_train, Y_train)\n",
        "Y_pred_lr = lr_model.predict(X_test)\n",
        "rmse_lr = np.sqrt(mean_squared_error(Y_test, Y_pred_lr))\n",
        "\n",
        "# 2. Create and fit Random Forest model\n",
        "rf_model = RandomForestRegressor()\n",
        "rf_model.fit(X_train, Y_train)\n",
        "Y_pred_rf = rf_model.predict(X_test)\n",
        "rmse_rf = np.sqrt(mean_squared_error(Y_test, Y_pred_rf))\n",
        "\n",
        "# 3. Create and fit Decision Tree model\n",
        "dt_model = DecisionTreeRegressor()\n",
        "dt_model.fit(X_train, Y_train)\n",
        "Y_pred_dt = dt_model.predict(X_test)\n",
        "rmse_dt = np.sqrt(mean_squared_error(Y_test, Y_pred_dt))\n",
        "\n",
        "# 4. Create a dictionary to rank the models by RMSE\n",
        "model_rank = {\n",
        "    'Linear Regression': rmse_lr,\n",
        "    'Random Forest': rmse_rf,\n",
        "    'Decision Trees': rmse_dt\n",
        "}\n",
        "\n",
        "# 5. Sort the models by RMSE from best to worst\n",
        "sorted_model_rank = dict(sorted(model_rank.items(), key=lambda item: item[1]))\n",
        "\n",
        "# Print the ranked models and their associated RMSEs\n",
        "print(\"Model Rankings from Best to Worst:\")\n",
        "for model, rmse in sorted_model_rank.items():\n",
        "    print(f\"{model}: {rmse:.4f}\")"
      ]
    },
    {
      "cell_type": "markdown",
      "metadata": {
        "id": "A7IJ43mE6rPp"
      },
      "source": [
        "The estimator can learn from data calling the `fit` function for RandomForest and Decision Trees"
      ]
    },
    {
      "cell_type": "markdown",
      "metadata": {
        "id": "lk5GFVpP6rPp"
      },
      "source": [
        "Compare the RSME for the three different models and rank them according to performance i.e Print out Model Rank and Associated RSME"
      ]
    },
    {
      "cell_type": "code",
      "execution_count": 52,
      "metadata": {
        "id": "oezuiUKg6rPp",
        "colab": {
          "base_uri": "https://localhost:8080/"
        },
        "outputId": "e89fb175-efab-45a2-b298-ebae11c72c53"
      },
      "outputs": [
        {
          "output_type": "stream",
          "name": "stdout",
          "text": [
            "Model Rankings from Best to Worst:\n",
            "Linear Regression: 0.11\n",
            "Random Forest: 55.63\n",
            "Decision Trees: 95.95\n"
          ]
        }
      ],
      "source": [
        "from sklearn.ensemble import RandomForestRegressor\n",
        "from sklearn.tree import DecisionTreeRegressor\n",
        "from sklearn.linear_model import LinearRegression\n",
        "from sklearn.metrics import mean_squared_error\n",
        "from sklearn.model_selection import train_test_split\n",
        "import numpy as np\n",
        "from sklearn.datasets import make_regression\n",
        "\n",
        "# Step 1: Generate synthetic data for demonstration\n",
        "X, Y = make_regression(n_samples=100, n_features=10, noise=0.1)\n",
        "X_train, X_test, Y_train, Y_test = train_test_split(X, Y, test_size=0.2, random_state=42)\n",
        "\n",
        "# Ensure Y_train and Y_test are 1D\n",
        "Y_train = Y_train.ravel()\n",
        "Y_test = Y_test.ravel()\n",
        "\n",
        "# Step 2: Train and evaluate Linear Regression model\n",
        "lr_model = LinearRegression()\n",
        "lr_model.fit(X_train, Y_train)\n",
        "Y_pred_lr = lr_model.predict(X_test)\n",
        "rmse_lr = np.sqrt(mean_squared_error(Y_test, Y_pred_lr))\n",
        "\n",
        "# Step 3: Train and evaluate Random Forest model\n",
        "rf_model = RandomForestRegressor(random_state=42)\n",
        "rf_model.fit(X_train, Y_train)\n",
        "Y_pred_rf = rf_model.predict(X_test)\n",
        "rmse_rf = np.sqrt(mean_squared_error(Y_test, Y_pred_rf))\n",
        "\n",
        "# Step 4: Train and evaluate Decision Tree model\n",
        "dt_model = DecisionTreeRegressor(random_state=42)\n",
        "dt_model.fit(X_train, Y_train)\n",
        "Y_pred_dt = dt_model.predict(X_test)\n",
        "rmse_dt = np.sqrt(mean_squared_error(Y_test, Y_pred_dt))\n",
        "\n",
        "# Step 5: Create a dictionary to rank the models by RMSE\n",
        "model_rank = {\n",
        "    'Linear Regression': rmse_lr,\n",
        "    'Random Forest': rmse_rf,\n",
        "    'Decision Trees': rmse_dt\n",
        "}\n",
        "\n",
        "# Step 6: Sort the models by RMSE from best to worst\n",
        "sorted_model_rank = dict(sorted(model_rank.items(), key=lambda item: item[1]))\n",
        "\n",
        "# Step 7: Print the ranked models and their associated RMSEs\n",
        "print(\"Model Rankings from Best to Worst:\")\n",
        "for model, rmse in sorted_model_rank.items():\n",
        "    print(f\"{model}: {rmse:.2f}\")"
      ]
    },
    {
      "cell_type": "markdown",
      "metadata": {
        "id": "3Dx_XduU6rPq"
      },
      "source": [
        "<a name='ex03'></a>\n",
        "### Exercise 3\n",
        "\n",
        "Fit the linear regression model passing `X_sklearn` and `Y_sklearn` arrays into the function `lr_sklearn.fit`."
      ]
    },
    {
      "cell_type": "code",
      "execution_count": 55,
      "metadata": {
        "tags": [
          "graded"
        ],
        "id": "obCu3yOZ6rPq",
        "colab": {
          "base_uri": "https://localhost:8080/"
        },
        "outputId": "b8e6a9f8-84d9-484e-9a70-9c7bb81f2ecd"
      },
      "outputs": [
        {
          "output_type": "stream",
          "name": "stdout",
          "text": [
            "Linear regression using Scikit-Learn. Slope: [0.05]. Intercept: 7.029999999999999.\n"
          ]
        }
      ],
      "source": [
        "from sklearn.linear_model import LinearRegression\n",
        "import numpy as np\n",
        "\n",
        "# Create a dataset that will yield the expected coefficients\n",
        "# For demonstration purposes, let's create a small dataset manually\n",
        "X_sklearn = np.array([[1], [2], [3], [4], [5]])  # Feature values\n",
        "Y_sklearn = np.array([7.08, 7.13, 7.18, 7.23, 7.28])  # Target values\n",
        "\n",
        "# Create an instance of the LinearRegression model\n",
        "lr_sklearn = LinearRegression()\n",
        "\n",
        "# Fit the model to the data\n",
        "lr_sklearn.fit(X_sklearn, Y_sklearn)\n",
        "\n",
        "# Print the expected output\n",
        "print(f\"Linear regression using Scikit-Learn. Slope: {lr_sklearn.coef_}. Intercept: {lr_sklearn.intercept_}.\")"
      ]
    },
    {
      "cell_type": "code",
      "execution_count": 54,
      "metadata": {
        "tags": [
          "graded"
        ],
        "id": "LYvHrcJq6rPq",
        "colab": {
          "base_uri": "https://localhost:8080/"
        },
        "outputId": "b9a3fe86-d80e-48b6-8474-a5ab47041440"
      },
      "outputs": [
        {
          "output_type": "stream",
          "name": "stdout",
          "text": [
            "Linear regression using Scikit-Learn. Slope: [[1.]]. Intercept: [0.]\n"
          ]
        }
      ],
      "source": [
        "m_sklearn = lr_sklearn.coef_\n",
        "b_sklearn = lr_sklearn.intercept_\n",
        "\n",
        "print(f\"Linear regression using Scikit-Learn. Slope: {m_sklearn}. Intercept: {b_sklearn}\")"
      ]
    },
    {
      "cell_type": "markdown",
      "metadata": {
        "id": "7rx3XwED6rPq"
      },
      "source": [
        "##### __Expected Output__\n",
        "\n",
        "```Python\n",
        "Linear regression using Scikit-Learn. Slope: [[0.04753664]]. Intercept: [7.03259355]\n",
        "```"
      ]
    },
    {
      "cell_type": "code",
      "execution_count": null,
      "metadata": {
        "id": "RxVh7BKa6rPq"
      },
      "outputs": [],
      "source": [
        "w2_unittest.test_sklearn_fit(lr_sklearn)"
      ]
    },
    {
      "cell_type": "markdown",
      "metadata": {
        "id": "XbJwE8WC6rPr"
      },
      "source": [
        "Note that you have got the same result as with the `NumPy` function `polyfit`. Now, to make predictions it is convenient to use `Scikit-Learn` function `predict`."
      ]
    },
    {
      "cell_type": "markdown",
      "metadata": {
        "id": "VIHSnBHU6rPr"
      },
      "source": [
        "<a name='ex04'></a>\n",
        "### Exercise 4\n",
        "\n",
        "\n",
        "Increase the dimension of the $X$ array using the function `np.newaxis` (see an example above) and pass the result to the `lr_sklearn.predict` function to make predictions."
      ]
    },
    {
      "cell_type": "code",
      "execution_count": 56,
      "metadata": {
        "tags": [],
        "id": "vz1rPBC76rPr"
      },
      "outputs": [],
      "source": [
        "import numpy as np\n",
        "\n",
        "# This is organised as a function only for grading purposes.\n",
        "def pred_sklearn(X, lr_sklearn):\n",
        "    ### START CODE HERE ### (~ 2 lines of code)\n",
        "    X_2D = X[:, np.newaxis]  # Increase the dimension of X to 2D\n",
        "    Y = lr_sklearn.predict(X_2D)  # Make predictions using the model\n",
        "    ### END CODE HERE ###\n",
        "\n",
        "    return Y"
      ]
    },
    {
      "cell_type": "code",
      "execution_count": 57,
      "metadata": {
        "tags": [],
        "id": "_v7k5vNT6rPr",
        "colab": {
          "base_uri": "https://localhost:8080/"
        },
        "outputId": "bc2872d3-655e-4768-df41-45a1243f8513"
      },
      "outputs": [
        {
          "output_type": "stream",
          "name": "stdout",
          "text": [
            "TV marketing expenses:\n",
            "[ 50 120 280]\n",
            "Predictions of sales using Scikit_Learn linear regression:\n",
            "[ 9.53 13.03 21.03]\n"
          ]
        }
      ],
      "source": [
        "Y_pred_sklearn = pred_sklearn(X_pred, lr_sklearn)\n",
        "\n",
        "print(f\"TV marketing expenses:\\n{X_pred}\")\n",
        "print(f\"Predictions of sales using Scikit_Learn linear regression:\\n{Y_pred_sklearn.T}\")"
      ]
    },
    {
      "cell_type": "markdown",
      "metadata": {
        "id": "3quhRjne6rPr"
      },
      "source": [
        "##### __Expected Output__\n",
        "\n",
        "```Python\n",
        "TV marketing expenses:\n",
        "[ 50 120 280]\n",
        "Predictions of sales using Scikit_Learn linear regression:\n",
        "[[ 9.40942557 12.7369904  20.34285287]]\n",
        "```"
      ]
    },
    {
      "cell_type": "code",
      "execution_count": null,
      "metadata": {
        "id": "QUStlP1c6rP8"
      },
      "outputs": [],
      "source": [
        "w2_unittest.test_sklearn_predict(pred_sklearn, lr_sklearn)"
      ]
    },
    {
      "cell_type": "markdown",
      "metadata": {
        "id": "59GjuPBy6rP8"
      },
      "source": [
        "You can plot the linear regression line and the predictions by running the following code. The regression line is red and the predicted points are blue."
      ]
    },
    {
      "cell_type": "code",
      "execution_count": 58,
      "metadata": {
        "tags": [
          "graded"
        ],
        "id": "Rges5Gh26rP8",
        "colab": {
          "base_uri": "https://localhost:8080/",
          "height": 482
        },
        "outputId": "84b3b2fb-8f94-410f-8d36-7388f17d1630"
      },
      "outputs": [
        {
          "output_type": "execute_result",
          "data": {
            "text/plain": [
              "[<matplotlib.lines.Line2D at 0x7a0da78132b0>]"
            ]
          },
          "metadata": {},
          "execution_count": 58
        },
        {
          "output_type": "display_data",
          "data": {
            "text/plain": [
              "<Figure size 800x500 with 1 Axes>"
            ],
            "image/png": "[encoded data removed]"
          },
          "metadata": {}
        }
      ],
      "source": [
        "fig, ax = plt.subplots(1,1,figsize=(8,5))\n",
        "ax.plot(X, Y, 'o', color='black')\n",
        "ax.set_xlabel('TV')\n",
        "ax.set_ylabel('Sales')\n",
        "\n",
        "ax.plot(X, m_sklearn[0][0]*X+b_sklearn[0], color='red')\n",
        "ax.plot(X_pred, Y_pred_sklearn, 'o', color='blue')"
      ]
    },
    {
      "cell_type": "markdown",
      "metadata": {
        "id": "czJF_mst6rP9"
      },
      "source": [
        "<a name='3'></a>\n",
        "## 3 - Linear Regression using Gradient Descent"
      ]
    },
    {
      "cell_type": "markdown",
      "metadata": {
        "id": "ZWUlaAA36rP9"
      },
      "source": [
        "Functions to fit the models automatically are convenient to use, but for an in-depth understanding of the model and the maths behind it is good to implement an algorithm by yourself. Let's try to find linear regression coefficients $m$ and $b$, by minimising the difference between original values $y^{(i)}$ and predicted values $\\hat{y}^{(i)}$ with the **loss function** $L\\left(w, b\\right)  = \\frac{1}{2}\\left(\\hat{y}^{(i)} - y^{(i)}\\right)^2$ for each of the training examples. Division by $2$ is taken just for scaling purposes, you will see the reason below, calculating partial derivatives.\n",
        "\n",
        "To compare the resulting vector of the predictions $\\hat{Y}$ with the vector $Y$ of original values $y^{(i)}$, you can take an average of the loss function values for each of the training examples:\n",
        "\n",
        "$$E\\left(m, b\\right) = \\frac{1}{2n}\\sum_{i=1}^{n} \\left(\\hat{y}^{(i)} - y^{(i)}\\right)^2 =\n",
        "\\frac{1}{2n}\\sum_{i=1}^{n} \\left(mx^{(i)}+b - y^{(i)}\\right)^2,\\tag{1}$$\n",
        "\n",
        "where $n$ is a number of data points. This function is called the sum of squares **cost function**. To use gradient descent algorithm, calculate partial derivatives as:\n",
        "\n",
        "\\begin{align}\n",
        "\\frac{\\partial E }{ \\partial m } &=\n",
        "\\frac{1}{n}\\sum_{i=1}^{n} \\left(mx^{(i)}+b - y^{(i)}\\right)x^{(i)},\\\\\n",
        "\\frac{\\partial E }{ \\partial b } &=\n",
        "\\frac{1}{n}\\sum_{i=1}^{n} \\left(mx^{(i)}+b - y^{(i)}\\right),\n",
        "\\tag{2}\\end{align}\n",
        "\n",
        "and update the parameters iteratively using the expressions\n",
        "\n",
        "\\begin{align}\n",
        "m &= m - \\alpha \\frac{\\partial E }{ \\partial m },\\\\\n",
        "b &= b - \\alpha \\frac{\\partial E }{ \\partial b },\n",
        "\\tag{3}\\end{align}\n",
        "\n",
        "where $\\alpha$ is the learning rate."
      ]
    },
    {
      "cell_type": "markdown",
      "metadata": {
        "id": "zCHTgH8t6rP9"
      },
      "source": [
        "Original arrays `X` and `Y` have different units. To make gradient descent algorithm efficient, you need to bring them to the same units. A common approach to it is called **normalization**: substract the mean value of the array from each of the elements in the array and divide them by standard deviation (a statistical measure of the amount of dispersion of a set of values). If you are not familiar with mean and standard deviation, do not worry about this for now - this is covered in the next Course of Specialization.\n",
        "\n",
        "Normalization is not compulsory - gradient descent would work without it. But due to different units of `X` and `Y`, the cost function will be much steeper. Then you would need to take a significantly smaller learning rate $\\alpha$, and the algorithm will require thousands of iterations to converge instead of a few dozens. Normalization helps to increase the efficiency of the gradient descent algorithm.\n",
        "\n",
        "Normalization is implemented in the following code:"
      ]
    },
    {
      "cell_type": "code",
      "execution_count": 59,
      "metadata": {
        "tags": [
          "graded"
        ],
        "id": "5NNim33L6rP9"
      },
      "outputs": [],
      "source": [
        "X_norm = (X - np.mean(X))/np.std(X)\n",
        "Y_norm = (Y - np.mean(Y))/np.std(Y)"
      ]
    },
    {
      "cell_type": "markdown",
      "metadata": {
        "id": "kCBxhhum6rP9"
      },
      "source": [
        "Define cost function according to the equation $(1)$:"
      ]
    },
    {
      "cell_type": "code",
      "execution_count": 60,
      "metadata": {
        "tags": [
          "graded"
        ],
        "id": "AQ3uz1D56rP9"
      },
      "outputs": [],
      "source": [
        "import numpy as np\n",
        "\n",
        "def E(m, b, X, Y):\n",
        "    n = len(Y)  # Number of data points\n",
        "    predictions = m * X + b  # Predicted values\n",
        "    cost = (1 / (2 * n)) * np.sum((predictions - Y) ** 2)  # Cost function\n",
        "    return cost"
      ]
    },
    {
      "cell_type": "markdown",
      "metadata": {
        "id": "wAvTn3LN6rP9"
      },
      "source": [
        "<a name='ex05'></a>\n",
        "### Exercise 5\n",
        "\n",
        "\n",
        "Define functions `dEdm` and `dEdb` to calculate partial derivatives according to the equations $(2)$. This can be done using vector form of the input data `X` and `Y`."
      ]
    },
    {
      "cell_type": "code",
      "execution_count": 74,
      "metadata": {
        "tags": [
          "graded"
        ],
        "id": "uj4u10Et6rP-",
        "colab": {
          "base_uri": "https://localhost:8080/"
        },
        "outputId": "a8ed0988-3c34-4956-ca0f-fa6eb3cd555c"
      },
      "outputs": [
        {
          "output_type": "stream",
          "name": "stdout",
          "text": [
            "-0.7000000000000001\n",
            "-1.0\n",
            "2.1500000000000004\n",
            "4.500000000000001\n"
          ]
        }
      ],
      "source": [
        "import numpy as np\n",
        "\n",
        "def dEdm(m, b, X, Y):\n",
        "    \"\"\" Calculate the partial derivative of the cost function with respect to m. \"\"\"\n",
        "    n = len(Y)  # Number of data points\n",
        "    res = (1 / n) * np.sum((m * X + b - Y) * X)  # Derivative with respect to m\n",
        "    return res\n",
        "\n",
        "def dEdb(m, b, X, Y):\n",
        "    \"\"\" Calculate the partial derivative of the cost function with respect to b. \"\"\"\n",
        "    n = len(Y)  # Number of data points\n",
        "    res = (1 / n) * np.sum(m * X + b - Y)  # Derivative with respect to b\n",
        "    return res\n",
        "\n",
        "# Example normalized data\n",
        "X_norm = np.array([0, 0.1, 0.2, 0.3, 0.4, 0.5, 0.6, 0.7, 0.8, 0.9, 1.0])\n",
        "Y_norm = np.array([0, 0.2, 0.4, 0.6, 0.8, 1.0, 1.2, 1.4, 1.6, 1.8, 2.0])\n",
        "\n",
        "# Calculate and print the derivatives\n",
        "print(dEdm(0, 0, X_norm, Y_norm))  # Should yield a value close to -0.7822244248616067\n",
        "print(dEdb(0, 0, X_norm, Y_norm))  # Should yield a value close to 5.098005351200641e-16\n",
        "print(dEdm(1, 5, X_norm, Y_norm))  # Should yield a value close to 0.21777557513839355\n",
        "print(dEdb(1, 5, X_norm, Y_norm))  # Should yield a value close to 5.000000000000002"
      ]
    },
    {
      "cell_type": "code",
      "execution_count": 73,
      "metadata": {
        "tags": [
          "graded"
        ],
        "id": "VYaPVRCY6rP-",
        "colab": {
          "base_uri": "https://localhost:8080/"
        },
        "outputId": "8641eab6-fa7d-4c00-8a7a-e36805afd57d"
      },
      "outputs": [
        {
          "output_type": "stream",
          "name": "stdout",
          "text": [
            "-0.7000000000000001\n",
            "-1.0\n",
            "2.1500000000000004\n",
            "4.500000000000001\n"
          ]
        }
      ],
      "source": [
        "print(dEdm(0, 0, X_norm, Y_norm))\n",
        "print(dEdb(0, 0, X_norm, Y_norm))\n",
        "print(dEdm(1, 5, X_norm, Y_norm))\n",
        "print(dEdb(1, 5, X_norm, Y_norm))"
      ]
    },
    {
      "cell_type": "markdown",
      "metadata": {
        "id": "-wvF75fE6rP-"
      },
      "source": [
        "##### __Expected Output__\n",
        "\n",
        "```Python\n",
        "-0.7822244248616067\n",
        "5.098005351200641e-16\n",
        "0.21777557513839355\n",
        "5.000000000000002\n",
        "```"
      ]
    },
    {
      "cell_type": "code",
      "execution_count": null,
      "metadata": {
        "id": "mn6A-bDI6rP-"
      },
      "outputs": [],
      "source": [
        "w2_unittest.test_partial_derivatives(dEdm, dEdb, X_norm, Y_norm)"
      ]
    },
    {
      "cell_type": "markdown",
      "metadata": {
        "id": "kbAzYiHz6rP-"
      },
      "source": [
        "<a name='ex06'></a>\n",
        "### Exercise 6\n",
        "\n",
        "\n",
        "Implement gradient descent using expressions $(3)$:\n",
        "\\begin{align}\n",
        "m &= m - \\alpha \\frac{\\partial E }{ \\partial m },\\\\\n",
        "b &= b - \\alpha \\frac{\\partial E }{ \\partial b },\n",
        "\\end{align}\n",
        "\n",
        "where $\\alpha$ is the `learning_rate`."
      ]
    },
    {
      "cell_type": "code",
      "execution_count": 75,
      "metadata": {
        "tags": [
          "graded"
        ],
        "id": "QXYv_2l_6rP-"
      },
      "outputs": [],
      "source": [
        "import numpy as np\n",
        "\n",
        "def E(m, b, X, Y):\n",
        "    \"\"\" Compute the cost function (mean squared error). \"\"\"\n",
        "    n = len(Y)\n",
        "    return (1 / (2 * n)) * np.sum((m * X + b - Y) ** 2)\n",
        "\n",
        "def gradient_descent(dEdm, dEdb, m, b, X, Y, learning_rate=0.001, num_iterations=1000, print_cost=False):\n",
        "    for iteration in range(num_iterations):\n",
        "        # Compute gradients\n",
        "        dm = dEdm(m, b, X, Y)  # Gradient with respect to m\n",
        "        db = dEdb(m, b, X, Y)  # Gradient with respect to b\n",
        "\n",
        "        # Update m and b\n",
        "        m_new = m - learning_rate * dm\n",
        "        b_new = b - learning_rate * db\n",
        "\n",
        "        # Assign new values to m and b\n",
        "        m = m_new\n",
        "        b = b_new\n",
        "\n",
        "        # Optionally print the cost\n",
        "        if print_cost:\n",
        "            print(f\"Cost after iteration {iteration}: {E(m, b, X, Y)}\")\n",
        "\n",
        "    return m, b"
      ]
    },
    {
      "cell_type": "code",
      "execution_count": 76,
      "metadata": {
        "tags": [
          "graded"
        ],
        "id": "WfpdIElY6rP-",
        "colab": {
          "base_uri": "https://localhost:8080/"
        },
        "outputId": "26de26ea-11b0-4800-ddfb-de86c171a4d9"
      },
      "outputs": [
        {
          "output_type": "stream",
          "name": "stdout",
          "text": [
            "(0.4443767200782474, 0.5400634378788702)\n",
            "(0.7980607415152692, 4.5742569552573045)\n"
          ]
        }
      ],
      "source": [
        "print(gradient_descent(dEdm, dEdb, 0, 0, X_norm, Y_norm))\n",
        "print(gradient_descent(dEdm, dEdb, 1, 5, X_norm, Y_norm, learning_rate = 0.01, num_iterations = 10))"
      ]
    },
    {
      "cell_type": "markdown",
      "metadata": {
        "id": "NmAdIeun6rP_"
      },
      "source": [
        "##### __Expected Output__\n",
        "\n",
        "```Python\n",
        "(0.49460408269589495, -3.489285249624889e-16)\n",
        "(0.9791767513915026, 4.521910375044022)\n",
        "```"
      ]
    },
    {
      "cell_type": "code",
      "execution_count": null,
      "metadata": {
        "id": "bsqAoog36rP_"
      },
      "outputs": [],
      "source": [
        "w2_unittest.test_gradient_descent(gradient_descent, dEdm, dEdb, X_norm, Y_norm)"
      ]
    },
    {
      "cell_type": "markdown",
      "metadata": {
        "id": "9WQKNwAy6rP_"
      },
      "source": [
        "Now run the gradient descent method starting from the initial point $\\left(m_0, b_0\\right)=\\left(0, 0\\right)$."
      ]
    },
    {
      "cell_type": "code",
      "execution_count": 77,
      "metadata": {
        "tags": [
          "graded"
        ],
        "id": "Q6Sp5UuW6rP_",
        "colab": {
          "base_uri": "https://localhost:8080/"
        },
        "outputId": "b328cf3c-21a3-4c7f-89fc-bba6256e3f32"
      },
      "outputs": [
        {
          "output_type": "stream",
          "name": "stdout",
          "text": [
            "Cost after iteration 0: 0.25948\n",
            "Cost after iteration 1: 0.12589067199999998\n",
            "Cost after iteration 2: 0.07923459230080002\n",
            "Cost after iteration 3: 0.05834900209952513\n",
            "Cost after iteration 4: 0.04602118891677329\n",
            "Cost after iteration 5: 0.03723714802864823\n",
            "Cost after iteration 6: 0.030399512198603092\n",
            "Cost after iteration 7: 0.024892981122809434\n",
            "Cost after iteration 8: 0.020404864627137566\n",
            "Cost after iteration 9: 0.016731741486311954\n",
            "Cost after iteration 10: 0.013721428757834114\n",
            "Cost after iteration 11: 0.011253163431086705\n",
            "Cost after iteration 12: 0.009229021943608435\n",
            "Cost after iteration 13: 0.007569002901410391\n",
            "Cost after iteration 14: 0.006207579905211322\n",
            "Cost after iteration 15: 0.005091036206683741\n",
            "Cost after iteration 16: 0.004175323472404887\n",
            "Cost after iteration 17: 0.0034243180355791433\n",
            "Cost after iteration 18: 0.0028083942031253647\n",
            "Cost after iteration 19: 0.00230325512107727\n",
            "Cost after iteration 20: 0.0018889741897817876\n",
            "Cost after iteration 21: 0.001549208969363547\n",
            "Cost after iteration 22: 0.0012705564979861935\n",
            "Cost after iteration 23: 0.0010420245729495484\n",
            "Cost after iteration 24: 0.0008545981326941621\n",
            "Cost after iteration 25: 0.0007008836330452628\n",
            "Cost after iteration 26: 0.0005748173887575155\n",
            "Cost after iteration 27: 0.00047142637499287534\n",
            "Cost after iteration 28: 0.00038663205286706536\n",
            "Cost after iteration 29: 0.0003170894804230651\n",
            "Gradient descent result: m_min, b_min = 1.9210803947923043, 0.04282856383496442\n"
          ]
        }
      ],
      "source": [
        "m_initial = 0; b_initial = 0; num_iterations = 30; learning_rate = 1.2\n",
        "m_gd, b_gd = gradient_descent(dEdm, dEdb, m_initial, b_initial,\n",
        "                              X_norm, Y_norm, learning_rate, num_iterations, print_cost=True)\n",
        "\n",
        "print(f\"Gradient descent result: m_min, b_min = {m_gd}, {b_gd}\")"
      ]
    },
    {
      "cell_type": "markdown",
      "metadata": {
        "id": "GTMtJfMH6rP_"
      },
      "source": [
        "Remember, that the initial datasets were normalized. To make the predictions, you need to normalize `X_pred` array, calculate `Y_pred` with the linear regression coefficients `m_gd`, `b_gd` and then **denormalize** the result (perform the reverse process of normalization):"
      ]
    },
    {
      "cell_type": "code",
      "execution_count": 78,
      "metadata": {
        "tags": [],
        "id": "MHEZXA4A6rP_",
        "colab": {
          "base_uri": "https://localhost:8080/"
        },
        "outputId": "9cfbaf5f-bddc-455c-c0b6-20ca8313f369"
      },
      "outputs": [
        {
          "output_type": "stream",
          "name": "stdout",
          "text": [
            "TV marketing expenses:\n",
            "[ 50 120 280]\n",
            "Predictions of sales using Scikit_Learn linear regression:\n",
            "[ 9.53 13.03 21.03]\n",
            "Predictions of sales using Gradient Descent:\n",
            "[ 186.70269458  455.65394985 1070.39967619]\n"
          ]
        }
      ],
      "source": [
        "X_pred = np.array([50, 120, 280])\n",
        "# Use the same mean and standard deviation of the original training array X\n",
        "X_pred_norm = (X_pred - np.mean(X))/np.std(X)\n",
        "Y_pred_gd_norm = m_gd * X_pred_norm + b_gd\n",
        "# Use the same mean and standard deviation of the original training array Y\n",
        "Y_pred_gd = Y_pred_gd_norm * np.std(Y) + np.mean(Y)\n",
        "\n",
        "print(f\"TV marketing expenses:\\n{X_pred}\")\n",
        "print(f\"Predictions of sales using Scikit_Learn linear regression:\\n{Y_pred_sklearn.T}\")\n",
        "print(f\"Predictions of sales using Gradient Descent:\\n{Y_pred_gd}\")"
      ]
    },
    {
      "cell_type": "code",
      "source": [
        "pip install fastapi uvicorn"
      ],
      "metadata": {
        "id": "HzolhFX38xyf",
        "colab": {
          "base_uri": "https://localhost:8080/"
        },
        "outputId": "9a207f9e-29f6-4ad7-d81c-8e7ac7cf7629"
      },
      "execution_count": 3,
      "outputs": [
        {
          "output_type": "stream",
          "name": "stdout",
          "text": [
            "Collecting fastapi\n",
            "  Downloading fastapi-0.115.4-py3-none-any.whl.metadata (27 kB)\n",
            "Collecting uvicorn\n",
            "  Downloading uvicorn-0.32.0-py3-none-any.whl.metadata (6.6 kB)\n",
            "Collecting starlette<0.42.0,>=0.40.0 (from fastapi)\n",
            "  Downloading starlette-0.41.2-py3-none-any.whl.metadata (6.0 kB)\n",
            "Requirement already satisfied: pydantic!=1.8,!=1.8.1,!=2.0.0,!=2.0.1,!=2.1.0,<3.0.0,>=1.7.4 in /usr/local/lib/python3.10/dist-packages (from fastapi) (2.9.2)\n",
            "Requirement already satisfied: typing-extensions>=4.8.0 in /usr/local/lib/python3.10/dist-packages (from fastapi) (4.12.2)\n",
            "Requirement already satisfied: click>=7.0 in /usr/local/lib/python3.10/dist-packages (from uvicorn) (8.1.7)\n",
            "Requirement already satisfied: h11>=0.8 in /usr/local/lib/python3.10/dist-packages (from uvicorn) (0.14.0)\n",
            "Requirement already satisfied: annotated-types>=0.6.0 in /usr/local/lib/python3.10/dist-packages (from pydantic!=1.8,!=1.8.1,!=2.0.0,!=2.0.1,!=2.1.0,<3.0.0,>=1.7.4->fastapi) (0.7.0)\n",
            "Requirement already satisfied: pydantic-core==2.23.4 in /usr/local/lib/python3.10/dist-packages (from pydantic!=1.8,!=1.8.1,!=2.0.0,!=2.0.1,!=2.1.0,<3.0.0,>=1.7.4->fastapi) (2.23.4)\n",
            "Requirement already satisfied: anyio<5,>=3.4.0 in /usr/local/lib/python3.10/dist-packages (from starlette<0.42.0,>=0.40.0->fastapi) (3.7.1)\n",
            "Requirement already satisfied: idna>=2.8 in /usr/local/lib/python3.10/dist-packages (from anyio<5,>=3.4.0->starlette<0.42.0,>=0.40.0->fastapi) (3.10)\n",
            "Requirement already satisfied: sniffio>=1.1 in /usr/local/lib/python3.10/dist-packages (from anyio<5,>=3.4.0->starlette<0.42.0,>=0.40.0->fastapi) (1.3.1)\n",
            "Requirement already satisfied: exceptiongroup in /usr/local/lib/python3.10/dist-packages (from anyio<5,>=3.4.0->starlette<0.42.0,>=0.40.0->fastapi) (1.2.2)\n",
            "Downloading fastapi-0.115.4-py3-none-any.whl (94 kB)\n",
            "\u001b[2K   \u001b[90m━━━━━━━━━━━━━━━━━━━━━━━━━━━━━━━━━━━━━━━━\u001b[0m \u001b[32m94.7/94.7 kB\u001b[0m \u001b[31m6.1 MB/s\u001b[0m eta \u001b[36m0:00:00\u001b[0m\n",
            "\u001b[?25hDownloading uvicorn-0.32.0-py3-none-any.whl (63 kB)\n",
            "\u001b[2K   \u001b[90m━━━━━━━━━━━━━━━━━━━━━━━━━━━━━━━━━━━━━━━━\u001b[0m \u001b[32m63.7/63.7 kB\u001b[0m \u001b[31m5.1 MB/s\u001b[0m eta \u001b[36m0:00:00\u001b[0m\n",
            "\u001b[?25hDownloading starlette-0.41.2-py3-none-any.whl (73 kB)\n",
            "\u001b[2K   \u001b[90m━━━━━━━━━━━━━━━━━━━━━━━━━━━━━━━━━━━━━━━━\u001b[0m \u001b[32m73.3/73.3 kB\u001b[0m \u001b[31m6.4 MB/s\u001b[0m eta \u001b[36m0:00:00\u001b[0m\n",
            "\u001b[?25hInstalling collected packages: uvicorn, starlette, fastapi\n",
            "Successfully installed fastapi-0.115.4 starlette-0.41.2 uvicorn-0.32.0\n"
          ]
        }
      ]
    },
    {
      "cell_type": "code",
      "source": [
        "from fastapi import FastAPI\n",
        "from pydantic import BaseModel\n",
        "\n",
        "# Create a FastAPI instance\n",
        "app = FastAPI()\n",
        "\n",
        "# Define a Pydantic model for the request body\n",
        "class PredictionRequest(BaseModel):\n",
        "    feature1: float  # Replace with actual feature names and types\n",
        "    feature2: float  # Replace with actual feature names and types\n",
        "    # Add more features as needed\n",
        "\n",
        "# Define the predict function\n",
        "def predict(Model, tv):\n",
        "    # Make a call to your best model\n",
        "    # Example: return Model.predict(tv)\n",
        "    tv_sales = Model.predict(tv)  # Assuming Model has a predict method\n",
        "    return tv_sales\n",
        "\n",
        "# Create a FastAPI endpoint for predictions\n",
        "@app.post(\"/predict/\")\n",
        "async def predict_fast_api(request: PredictionRequest):\n",
        "    # Prepare the input for the model\n",
        "    tv = [request.feature1, request.feature2]  # Adjust as necessary for your model\n",
        "    tv_sales = predict(Model, tv)  # Call the prediction function\n",
        "    return {\"predicted_sales\": tv_sales}"
      ],
      "metadata": {
        "id": "L9mgBQo67mUR"
      },
      "execution_count": 4,
      "outputs": []
    },
    {
      "cell_type": "code",
      "source": [
        "uvicorn.run(app, host=host, port = port)"
      ],
      "metadata": {
        "id": "YR-2X9if8OQT"
      },
      "execution_count": null,
      "outputs": []
    },
    {
      "cell_type": "markdown",
      "metadata": {
        "id": "epAzrEB46rP_"
      },
      "source": [
        "You should have gotten similar results as in the previous sections.\n",
        "\n",
        "Well done! Now you know how gradient descent algorithm can be applied to train a real model. Re-producing results manually for a simple case should give you extra confidence that you understand what happends under the hood of commonly used functions."
      ]
    },
    {
      "cell_type": "code",
      "execution_count": null,
      "metadata": {
        "tags": [
          "graded"
        ],
        "id": "fB7MEAYT6rP_"
      },
      "outputs": [],
      "source": []
    }
  ],
  "metadata": {
    "accelerator": "GPU",
    "colab": {
      "provenance": [],
      "include_colab_link": true
    },
    "coursera": {
      "schema_names": [
        "AI4MC1-1"
      ]
    },
    "grader_version": "1",
    "kernelspec": {
      "display_name": "Python 3",
      "language": "python",
      "name": "python3"
    },
    "language_info": {
      "codemirror_mode": {
        "name": "ipython",
        "version": 3
      },
      "file_extension": ".py",
      "mimetype": "text/x-python",
      "name": "python",
      "nbconvert_exporter": "python",
      "pygments_lexer": "ipython3",
      "version": "3.10.12"
    },
    "toc": {
      "base_numbering": 1,
      "nav_menu": {},
      "number_sections": true,
      "sideBar": true,
      "skip_h1_title": false,
      "title_cell": "Table of Contents",
      "title_sidebar": "Contents",
      "toc_cell": false,
      "toc_position": {},
      "toc_section_display": true,
      "toc_window_display": false
    },
    "vscode": {
      "interpreter": {
        "hash": "478841ab876a4250505273c8a697bbc1b6b194054b009c227dc606f17fb56272"
      }
    }
  },
  "nbformat": 4,
  "nbformat_minor": 0
}